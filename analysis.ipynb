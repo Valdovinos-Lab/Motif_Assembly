{
 "cells": [
  {
   "cell_type": "code",
   "execution_count": 1,
   "id": "03527b49",
   "metadata": {},
   "outputs": [],
   "source": [
    "import math\n",
    "import matplotlib.pyplot as plt\n",
    "import pandas as pd\n",
    "import numpy as np\n",
    "import scipy\n",
    "from scipy.stats import ttest_rel, ttest_ind\n",
    "from os import listdir, getcwd "
   ]
  },
  {
   "cell_type": "code",
   "execution_count": 2,
   "id": "752b42d1",
   "metadata": {},
   "outputs": [],
   "source": [
    "# load data for specific guild\n",
    "\n",
    "date = '03_13_2023'\n",
    "dir_AF1 = 'AF1'\n",
    "dir_AF0 = 'AF0'\n",
    "guild = 'pollinator'\n",
    "allfiles_AF1 = listdir('%s/results/%s/%s/motifs/' % (getcwd(), date, dir_AF1))\n",
    "allfiles_AF0 = listdir('%s/results/%s/%s/motifs/' % (getcwd(), date, dir_AF0))\n",
    "motif_files_AF1 = [file for file in allfiles_AF1 if guild in file]\n",
    "motif_files_AF0 = [file for file in allfiles_AF0 if guild in file]"
   ]
  },
  {
   "cell_type": "code",
   "execution_count": 3,
   "id": "5af1ccf7",
   "metadata": {},
   "outputs": [],
   "source": [
    "# merge colonizers across all simulations within a group for motif analysis\n",
    "\n",
    "# with adaptive foraging\n",
    "species_af1 = pd.DataFrame()\n",
    "for p in motif_files_AF1:\n",
    "    p_AF1 = pd.read_csv('%s/results/%s/%s/motifs/%s' % (getcwd(), date, dir_AF1, p))\n",
    "    p_AF1 = p_AF1.iloc[9:] #remove first 9 plants in each simulation\n",
    "    species_af1 = species_af1.append(p_AF1)\n",
    "species_af1.removed.apply(lambda x: 1000 if x == math.inf else x)\n",
    "species_af1['lifespan'] = species_af1.removed - species_af1.added\n",
    "\n",
    "# without adaptive foraging\n",
    "species_af0 = pd.DataFrame()\n",
    "for p in motif_files_AF0:\n",
    "    p_AF0 = pd.read_csv('%s/results/%s/%s/motifs/%s' % (getcwd(), date, dir_AF0, p))\n",
    "    p_AF0 = p_AF0.iloc[9:] #remove first 9 plants in each simulation\n",
    "    species_af0 = species_af0.append(p_AF0)\n",
    "species_af0.removed.apply(lambda x: 1000 if x == math.inf else x)\n",
    "species_af0['lifespan'] = species_af0.removed - species_af0.added"
   ]
  },
  {
   "cell_type": "code",
   "execution_count": 4,
   "id": "15e7d14a",
   "metadata": {},
   "outputs": [],
   "source": [
    "# How frequently is each motif introduced?\n",
    "\n",
    "#only consider species who have indirect partners\n",
    "species_af1 = species_af1[species_af1.GenPart == 1]\n",
    "species_af0 = species_af0[species_af0.GenPart == 1]\n",
    "\n",
    "#separate between specialists and generalists\n",
    "spc_af1 = species_af1[species_af1.Spc == 1]\n",
    "spc_af0 = species_af0[species_af0.Spc == 1]\n",
    "gen_af1 = species_af1[species_af1.Gen == 1]\n",
    "gen_af0 = species_af0[species_af0.Gen == 1]\n",
    "\n",
    "#separate between specialists with generalists partners with specialist and generalist partners\n",
    "spc_spc_af1 = spc_af1[spc_af1.SpcPartPart == 1]\n",
    "spc_spc_af0 = spc_af0[spc_af0.SpcPartPart == 1]\n",
    "spc_gen_af1 = spc_af1[spc_af1.GenPartPart == 1]\n",
    "spc_gen_af0 = spc_af0[spc_af0.GenPartPart == 1]\n",
    "spc_gen_af1 = spc_gen_af1[spc_gen_af1.SpcPartPart == 0]\n",
    "spc_gen_af0 = spc_gen_af0[spc_gen_af0.SpcPartPart == 0]\n",
    "\n",
    "#separate between generalists with generalists partners with specialist and generalist partners\n",
    "gen_spc_af1 = gen_af1[gen_af1.SpcPartPart == 1]\n",
    "gen_spc_af0 = gen_af0[gen_af0.SpcPartPart == 1]\n",
    "gen_gen_af1 = gen_af1[gen_af1.GenPartPart == 1]\n",
    "gen_gen_af0 = gen_af0[gen_af0.GenPartPart == 1]\n",
    "gen_gen_af1 = gen_gen_af1[gen_gen_af1.SpcPartPart == 0]\n",
    "gen_gen_af0 = gen_gen_af0[gen_gen_af0.SpcPartPart == 0]"
   ]
  },
  {
   "cell_type": "code",
   "execution_count": 5,
   "id": "832daf8e",
   "metadata": {},
   "outputs": [
    {
     "name": "stdout",
     "output_type": "stream",
     "text": [
      "  Species_Guild Assembly_Model Motif_Group  Num_Colonizers  Est_Num  Est_Rate\n",
      "0    pollinator            AF1     Spc_Spc            1251      488  0.390088\n",
      "1    pollinator            AF1     Spc_Gen            6761     1689  0.249815\n",
      "2    pollinator            AF1     Gen_Spc            3087     1142  0.369938\n",
      "3    pollinator            AF1     Gen_Gen            5277     1597  0.302634\n",
      "4    pollinator            AF0     Spc_Spc            1251      488  0.390088\n",
      "5    pollinator            AF0     Spc_Gen            6761     1689  0.249815\n",
      "6    pollinator            AF0     Gen_Spc            3087     1142  0.369938\n",
      "7    pollinator            AF0     Gen_Gen            5277     1597  0.302634\n"
     ]
    }
   ],
   "source": [
    "# Relative Establishment Table\n",
    "\n",
    "data = pd.DataFrame(columns = ['Species_Guild', 'Assembly_Model', 'Motif_Group', 'Num_Colonizers', 'Est_Num', 'Est_Rate'])\n",
    "data.Species_Guild = np.repeat(guild, 8)\n",
    "data.Assembly_Model = np.concatenate((np.repeat('AF1', 4), np.repeat('AF0', 4)))\n",
    "data.Motif_Group = ['Spc_Spc', 'Spc_Gen', 'Gen_Spc', 'Gen_Gen', 'Spc_Spc', 'Spc_Gen', 'Gen_Spc', 'Gen_Gen']\n",
    "data.Num_Colonizers = [len(spc_spc_af1), len(spc_gen_af1), len(gen_spc_af1), len(gen_gen_af1), len(spc_spc_af0), len(spc_gen_af0), len(gen_spc_af0), len(gen_gen_af0)]\n",
    "data.Est_Num = [sum(spc_spc_af1.lifespan > 4000), sum(spc_gen_af1.lifespan > 4000), sum(gen_spc_af1.lifespan > 4000), sum(gen_gen_af1.lifespan > 4000), sum(spc_spc_af0.lifespan > 4000), sum(spc_gen_af0.lifespan > 4000), sum(gen_spc_af0.lifespan > 4000), sum(gen_gen_af0.lifespan > 4000)]\n",
    "data.Est_Rate = data.Est_Num / data.Num_Colonizers\n",
    "print(data)"
   ]
  },
  {
   "cell_type": "code",
   "execution_count": 6,
   "id": "07de5b67",
   "metadata": {},
   "outputs": [],
   "source": [
    "# How frequent is each motif after establishment? \n",
    "est_species_af1 = species_af1[species_af1.lifespan > 4000]\n",
    "est_species_af0 = species_af0[species_af0.lifespan > 4000]\n",
    "\n",
    "# Only consider species that retain their indirect partners\n",
    "est_species_af1 = est_species_af1[est_species_af1.GenPart2000 == 1]\n",
    "est_species_af0 = est_species_af0[est_species_af0.GenPart2000 == 1]\n",
    "est_species_af1 = est_species_af1[est_species_af1.GenPart4000 == 1]\n",
    "est_species_af0 = est_species_af0[est_species_af0.GenPart4000 == 1]\n",
    "\n",
    "#separate between specialists and generalists\n",
    "spc_af1 = est_species_af1[est_species_af1.Spc == 1]\n",
    "spc_af0 = est_species_af0[est_species_af0.Spc == 1]\n",
    "gen_af1 = est_species_af1[est_species_af1.Gen == 1]\n",
    "gen_af0 = est_species_af0[est_species_af0.Gen == 1]\n",
    "\n",
    "#separate between specialists with generalists partners with specialist and generalist partners\n",
    "spc_spc_af1 = spc_af1[spc_af1.SpcPartPart == 1]\n",
    "spc_spc_af0 = spc_af0[spc_af0.SpcPartPart == 1]\n",
    "spc_gen_af1 = spc_af1[spc_af1.GenPartPart == 1]\n",
    "spc_gen_af0 = spc_af0[spc_af0.GenPartPart == 1]\n",
    "spc_gen_af1 = spc_gen_af1[spc_gen_af1.SpcPartPart == 0]\n",
    "spc_gen_af0 = spc_gen_af0[spc_gen_af0.SpcPartPart == 0]\n",
    "\n",
    "#separate between generalists with generalists partners with specialist and generalist partners\n",
    "gen_spc_af1 = gen_af1[gen_af1.SpcPartPart == 1]\n",
    "gen_spc_af0 = gen_af0[gen_af0.SpcPartPart == 1]\n",
    "gen_gen_af1 = gen_af1[gen_af1.GenPartPart == 1]\n",
    "gen_gen_af0 = gen_af0[gen_af0.GenPartPart == 1]\n",
    "gen_gen_af1 = gen_gen_af1[gen_gen_af1.SpcPartPart == 0]\n",
    "gen_gen_af0 = gen_gen_af0[gen_gen_af0.SpcPartPart == 0]\n",
    "\n",
    "# How frequent is each motif after extinctions? \n",
    "\n",
    "#separate between specialists and generalists\n",
    "spc_af1_ext = est_species_af1[est_species_af1.Spc2000 == 1]\n",
    "spc_af0_ext = est_species_af0[est_species_af0.Spc2000 == 1]\n",
    "gen_af1_ext = est_species_af1[est_species_af1.Gen2000 == 1]\n",
    "gen_af0_ext = est_species_af0[est_species_af0.Gen2000 == 1]\n",
    "\n",
    "#separate between specialists with generalists partners with specialist and generalist partners\n",
    "spc_spc_af1_ext = spc_af1_ext[spc_af1_ext.SpcPartPart2000 == 1]\n",
    "spc_spc_af0_ext = spc_af0_ext[spc_af0_ext.SpcPartPart2000 == 1]\n",
    "spc_gen_af1_ext = spc_af1_ext[spc_af1_ext.GenPartPart2000 == 1]\n",
    "spc_gen_af0_ext = spc_af0_ext[spc_af0_ext.GenPartPart2000 == 1]\n",
    "spc_gen_af1_ext = spc_gen_af1_ext[spc_gen_af1_ext.SpcPartPart2000 == 0]\n",
    "spc_gen_af0_ext = spc_gen_af0_ext[spc_gen_af0_ext.SpcPartPart2000 == 0]\n",
    "\n",
    "#separate between generalists with generalists partners with specialist and generalist partners\n",
    "gen_spc_af1_ext = gen_af1_ext[gen_af1_ext.SpcPartPart2000 == 1]\n",
    "gen_spc_af0_ext = gen_af0_ext[gen_af0_ext.SpcPartPart2000 == 1]\n",
    "gen_gen_af1_ext = gen_af1_ext[gen_af1_ext.GenPartPart2000 == 1]\n",
    "gen_gen_af0_ext = gen_af0_ext[gen_af0_ext.GenPartPart2000 == 1]\n",
    "gen_gen_af1_ext = gen_gen_af1_ext[gen_gen_af1_ext.SpcPartPart2000 == 0]\n",
    "gen_gen_af0_ext = gen_gen_af0_ext[gen_gen_af0_ext.SpcPartPart2000 == 0]\n",
    "\n",
    "# How frequent is each motif after establishment and extinctions?\n",
    "\n",
    "#separate between specialists and generalists\n",
    "spc_af1_est = est_species_af1[est_species_af1.Spc4000 == 1]\n",
    "spc_af0_est = est_species_af0[est_species_af0.Spc4000 == 1]\n",
    "gen_af1_est = est_species_af1[est_species_af1.Gen4000 == 1]\n",
    "gen_af0_est = est_species_af0[est_species_af0.Gen4000 == 1]\n",
    "\n",
    "#separate between specialists with generalists partners with specialist and generalist partners\n",
    "spc_spc_af1_est = spc_af1_est[spc_af1_est.SpcPartPart4000 == 1]\n",
    "spc_spc_af0_est = spc_af0_est[spc_af0_est.SpcPartPart4000 == 1]\n",
    "spc_gen_af1_est = spc_af1_est[spc_af1_est.GenPartPart4000 == 1]\n",
    "spc_gen_af0_est = spc_af0_est[spc_af0_est.GenPartPart4000 == 1]\n",
    "spc_gen_af1_est = spc_gen_af1_est[spc_gen_af1_est.SpcPartPart4000 == 0]\n",
    "spc_gen_af0_est = spc_gen_af0_est[spc_gen_af0_est.SpcPartPart4000 == 0]\n",
    "\n",
    "#separate between generalists with generalists partners with specialist and generalist partners\n",
    "gen_spc_af1_est = gen_af1_est[gen_af1_est.SpcPartPart4000 == 1]\n",
    "gen_spc_af0_est = gen_af0_est[gen_af0_est.SpcPartPart4000 == 1]\n",
    "gen_gen_af1_est = gen_af1_est[gen_af1_est.GenPartPart4000 == 1]\n",
    "gen_gen_af0_est = gen_af0_est[gen_af0_est.GenPartPart4000 == 1]\n",
    "gen_gen_af1_est = gen_gen_af1_est[gen_gen_af1_est.SpcPartPart4000 == 0]\n",
    "gen_gen_af0_est = gen_gen_af0_est[gen_gen_af0_est.SpcPartPart4000 == 0]"
   ]
  },
  {
   "cell_type": "code",
   "execution_count": 7,
   "id": "0d344995",
   "metadata": {},
   "outputs": [
    {
     "name": "stdout",
     "output_type": "stream",
     "text": [
      "  Species_Guild Assembly_Model Motif_Group  Indirect_Spc_Ext_Num  \\\n",
      "0    pollinator            AF1     Spc_Spc                    16   \n",
      "1    pollinator            AF1     Spc_Gen                     0   \n",
      "2    pollinator            AF1     Gen_Spc                   275   \n",
      "3    pollinator            AF1     Gen_Gen                     0   \n",
      "4    pollinator            AF0     Spc_Spc                    16   \n",
      "5    pollinator            AF0     Spc_Gen                     0   \n",
      "6    pollinator            AF0     Gen_Spc                   275   \n",
      "7    pollinator            AF0     Gen_Gen                     0   \n",
      "\n",
      "   Indirect_Spc_Ext_Rate  Motif_Freq_After_Ext  Indirect_Spc_Est_Num  \\\n",
      "0               0.032787                   567                     0   \n",
      "1               0.000000                  1661                   151   \n",
      "2               0.240806                   969                     0   \n",
      "3               0.000000                  1718                   161   \n",
      "4               0.032787                   567                     0   \n",
      "5               0.000000                  1661                   151   \n",
      "6               0.240806                   969                     0   \n",
      "7               0.000000                  1718                   161   \n",
      "\n",
      "   Indirect_Spc_Est_Rate  Motif_Freq_After_Est  \n",
      "0               0.000000                   515  \n",
      "1               0.090909                  1079  \n",
      "2               0.000000                  1030  \n",
      "3               0.093714                  2291  \n",
      "4               0.000000                   515  \n",
      "5               0.090909                  1079  \n",
      "6               0.000000                  1030  \n",
      "7               0.093714                  2291  \n"
     ]
    }
   ],
   "source": [
    "# Motif Group Transformations Table\n",
    "\n",
    "#How often are indirect specialist excluded?\n",
    "spc_spc2000spc_gen_af1 = len(spc_spc_af1[spc_spc_af1.SpcPartPart2000 == 0])\n",
    "gen_spc2000gen_gen_af1 = len(gen_spc_af1[gen_spc_af1.SpcPartPart2000 == 0])\n",
    "spc_spc2000spc_gen_af0 = len(spc_spc_af0[spc_spc_af0.SpcPartPart2000 == 0])\n",
    "gen_spc2000gen_gen_af0 = len(gen_spc_af0[gen_spc_af0.SpcPartPart2000 == 0])\n",
    "\n",
    "#How often are indirect specialists added?\n",
    "spc_gen4000spc_spc_af1 = len(spc_gen_af1_ext[spc_gen_af1_ext.SpcPartPart4000 == 1])\n",
    "gen_gen4000gen_spc_af1 = len(gen_gen_af1_ext[gen_gen_af1_ext.SpcPartPart4000 == 1])\n",
    "spc_gen4000spc_spc_af0 = len(spc_gen_af0_ext[spc_gen_af0_ext.SpcPartPart4000 == 1])\n",
    "gen_gen4000gen_spc_af0 = len(gen_gen_af0_ext[gen_gen_af0_ext.SpcPartPart4000 == 1])\n",
    "\n",
    "data = pd.DataFrame(columns = ['Species_Guild', 'Assembly_Model', 'Motif_Group', 'Indirect_Spc_Ext_Num', 'Indirect_Spc_Ext_Rate', 'Motif_Freq_After_Ext', 'Indirect_Spc_Est_Num', 'Indirect_Spc_Est_Rate', 'Motif_Freq_After_Est'])\n",
    "data.Species_Guild = np.repeat(guild, 8)\n",
    "data.Assembly_Model = np.concatenate((np.repeat('AF1', 4), np.repeat('AF0', 4)))\n",
    "data.Motif_Group = ['Spc_Spc', 'Spc_Gen', 'Gen_Spc', 'Gen_Gen', 'Spc_Spc', 'Spc_Gen', 'Gen_Spc', 'Gen_Gen']\n",
    "data.Indirect_Spc_Ext_Num = [spc_spc2000spc_gen_af1, 0, gen_spc2000gen_gen_af1, 0, spc_spc2000spc_gen_af0, 0, gen_spc2000gen_gen_af0, 0]\n",
    "data.Indirect_Spc_Ext_Rate = [spc_spc2000spc_gen_af1/len(spc_spc_af1) , 0, gen_spc2000gen_gen_af1/len(gen_spc_af1), 0, spc_spc2000spc_gen_af0/len(spc_spc_af0), 0, gen_spc2000gen_gen_af0/len(gen_spc_af0), 0]\n",
    "data.Motif_Freq_After_Ext = [len(spc_spc_af1_ext), len(spc_gen_af1_ext), len(gen_spc_af1_ext), len(gen_gen_af1_ext), len(spc_spc_af0_ext), len(spc_gen_af0_ext), len(gen_spc_af0_ext), len(gen_gen_af0_ext)]\n",
    "data.Indirect_Spc_Est_Num = [0, spc_gen4000spc_spc_af1, 0, gen_gen4000gen_spc_af1, 0, spc_gen4000spc_spc_af0, 0, gen_gen4000gen_spc_af0]\n",
    "data.Indirect_Spc_Est_Rate = [0, spc_gen4000spc_spc_af1/len(spc_gen_af1_ext), 0, gen_gen4000gen_spc_af1/len(gen_gen_af1_ext), 0, spc_gen4000spc_spc_af0/len(spc_gen_af0_ext), 0, gen_gen4000gen_spc_af0/len(gen_gen_af0_ext)]\n",
    "data.Motif_Freq_After_Est = [len(spc_spc_af1_est), len(spc_gen_af1_est), len(gen_spc_af1_est), len(gen_gen_af1_est), len(spc_spc_af0_est), len(spc_gen_af0_est), len(gen_spc_af0_est), len(gen_gen_af0_est)]\n",
    "print(data)"
   ]
  },
  {
   "cell_type": "code",
   "execution_count": 8,
   "id": "dc151260",
   "metadata": {},
   "outputs": [
    {
     "data": {
      "image/png": "[encoded data removed]",
      "text/plain": [
       "<Figure size 792x288 with 1 Axes>"
      ]
     },
     "metadata": {
      "needs_background": "light"
     },
     "output_type": "display_data"
    }
   ],
   "source": [
    "# Plot the relative frequency of motifs through each stage of core motif development for assembly model with AF\n",
    "\n",
    "a = len(spc_spc_af1) / len(est_species_af1)\n",
    "b = len(spc_gen_af1) / len(est_species_af1)\n",
    "c = len(gen_spc_af1) / len(est_species_af1)\n",
    "d = len(gen_gen_af1) / len(est_species_af1)\n",
    "\n",
    "e = len(spc_spc_af1_ext) / len(est_species_af1)\n",
    "f = len(spc_gen_af1_ext) / len(est_species_af1)\n",
    "g = len(gen_spc_af1_ext) / len(est_species_af1)\n",
    "h = len(gen_gen_af1_ext) / len(est_species_af1)\n",
    "\n",
    "i = len(spc_spc_af1_est) / len(est_species_af1)\n",
    "j = len(spc_gen_af1_est) / len(est_species_af1)\n",
    "k = len(gen_spc_af1_est) / len(est_species_af1)\n",
    "l = len(gen_gen_af1_est) / len(est_species_af1)\n",
    "\n",
    "# plot\n",
    "labels = ['Spc-Gen-Spc', 'Spc-Gen-Gen', 'Gen-Gen-Spc', 'Gen-Gen-Gen']\n",
    "data = [a, b, c, d]\n",
    "data_ext = [e, f, g, h]\n",
    "data_est = [i, j, k, l]\n",
    "\n",
    "x = np.arange(len(labels))  # the label locations\n",
    "width = 0.20\n",
    "\n",
    "fig, ax = plt.subplots(figsize=(11, 4))\n",
    "data_fig = ax.bar(x - (width), data, width, label='After Establishment', color = 'black')\n",
    "ax.bar_label(data_fig, fmt='%0.2f')\n",
    "data_ext_fig = ax.bar(x, data_ext, width, label='After Establishment and Residual Extinctions', color = 'black', alpha = 0.7)\n",
    "ax.bar_label(data_ext_fig, fmt='%0.2f')\n",
    "data_est_fig = ax.bar(x + (width), data_est, width, label='After Establishment, Residual Extinctions, and Subsequent Establishment', color = 'black', alpha = 0.2)\n",
    "ax.bar_label(data_est_fig, fmt='%0.2f')\n",
    "\n",
    "ax.set_ylabel('Relative Frequency')\n",
    "ax.set_xticks(x)\n",
    "ax.legend()\n",
    "\n",
    "fig.tight_layout()\n",
    "plt.ylim(0, 1)\n",
    "plt.show()"
   ]
  },
  {
   "cell_type": "code",
   "execution_count": 9,
   "id": "a8a72e18",
   "metadata": {},
   "outputs": [
    {
     "data": {
      "image/png": "[encoded data removed]",
      "text/plain": [
       "<Figure size 792x288 with 1 Axes>"
      ]
     },
     "metadata": {
      "needs_background": "light"
     },
     "output_type": "display_data"
    }
   ],
   "source": [
    "# Plot the relative frequency of motifs through each stage of core motif development for assembly model without AF\n",
    "\n",
    "a = len(spc_spc_af0) / len(est_species_af0)\n",
    "b = len(spc_gen_af0) / len(est_species_af0)\n",
    "c = len(gen_spc_af0) / len(est_species_af0)\n",
    "d = len(gen_gen_af0) / len(est_species_af0)\n",
    "\n",
    "e = len(spc_spc_af0_ext) / len(est_species_af0)\n",
    "f = len(spc_gen_af0_ext) / len(est_species_af0)\n",
    "g = len(gen_spc_af0_ext) / len(est_species_af0)\n",
    "h = len(gen_gen_af0_ext) / len(est_species_af0)\n",
    "\n",
    "i = len(spc_spc_af0_est) / len(est_species_af0)\n",
    "j = len(spc_gen_af0_est) / len(est_species_af0)\n",
    "k = len(gen_spc_af0_est) / len(est_species_af0)\n",
    "l = len(gen_gen_af0_est) / len(est_species_af0)\n",
    "\n",
    "# plot\n",
    "labels = ['Spc-Gen-Spc', 'Spc-Gen-Gen', 'Gen-Gen-Spc', 'Gen-Gen-Gen']\n",
    "data = [a, b, c, d]\n",
    "data_ext = [e, f, g, h]\n",
    "data_est = [i, j, k, l]\n",
    "\n",
    "x = np.arange(len(labels))  # the label locations\n",
    "width = 0.20\n",
    "\n",
    "fig, ax = plt.subplots(figsize=(11, 4))\n",
    "data_fig = ax.bar(x - (width), data, width, label='After Establishment', color = 'black')\n",
    "ax.bar_label(data_fig, fmt='%0.2f')\n",
    "data_ext_fig = ax.bar(x, data_ext, width, label='After Establishment and Residual Extinctions', color = 'black', alpha = 0.7)\n",
    "ax.bar_label(data_ext_fig, fmt='%0.2f')\n",
    "data_est_fig = ax.bar(x + (width), data_est, width, label='After Establishment, Residual Extinctions, and Subsequent Establishment', color = 'black', alpha = 0.2)\n",
    "ax.bar_label(data_est_fig, fmt='%0.2f')\n",
    "\n",
    "ax.set_ylabel('Relative Frequency')\n",
    "ax.set_xticks(x)\n",
    "ax.legend()\n",
    "\n",
    "fig.tight_layout()\n",
    "plt.ylim(0, 1)\n",
    "plt.show()"
   ]
  },
  {
   "cell_type": "code",
   "execution_count": 10,
   "id": "562cc45b",
   "metadata": {},
   "outputs": [],
   "source": [
    "data_table_af0 = pd.read_csv('%s/results/%s/%s/data_table.csv' % (getcwd(), date, dir_AF0))\n",
    "data_table_af1 = pd.read_csv('%s/results/%s/%s/data_table.csv' % (getcwd(), date, dir_AF1))\n",
    "\n",
    "# analyze final networks produced in each simulation\n",
    "af0_data = data_table_af0[data_table_af0.TimeStep == 100000]\n",
    "af1_data = data_table_af1[data_table_af1.TimeStep == 100000]"
   ]
  },
  {
   "cell_type": "code",
   "execution_count": 11,
   "id": "66724640",
   "metadata": {},
   "outputs": [
    {
     "data": {
      "image/png": "[encoded data removed]",
      "text/plain": [
       "<Figure size 432x432 with 1 Axes>"
      ]
     },
     "metadata": {
      "needs_background": "light"
     },
     "output_type": "display_data"
    },
    {
     "name": "stdout",
     "output_type": "stream",
     "text": [
      "0.3975909413283257\n",
      "0.3975909413283257\n",
      "Ttest_relResult(statistic=nan, pvalue=nan)\n"
     ]
    }
   ],
   "source": [
    "fig, ax = plt.subplots(figsize=(6, 6))\n",
    "\n",
    "bplot = ax.boxplot(x = [af0_data.Connectence, af1_data.Connectence], patch_artist = True)\n",
    "ax.set_ylabel('Connectence')\n",
    "colors = ['lightgrey', 'lightgrey', 'lightgrey']\n",
    "for patch, color in zip(bplot['boxes'], colors):\n",
    "    patch.set_facecolor(color)\n",
    "    \n",
    "for median in bplot['medians']:\n",
    "    median.set_color('black')\n",
    "    \n",
    "fig.tight_layout()\n",
    "#plt.ylim(0, 4)\n",
    "plt.show()\n",
    "\n",
    "print(np.mean(af0_data.Connectence))\n",
    "print(np.mean(af1_data.Connectence))\n",
    "print(ttest_rel(af0_data.Connectence, af1_data.Connectence, alternative = 'less'))"
   ]
  },
  {
   "cell_type": "code",
   "execution_count": 12,
   "id": "38914500",
   "metadata": {},
   "outputs": [
    {
     "data": {
      "image/png": "[encoded data removed]",
      "text/plain": [
       "<Figure size 432x432 with 1 Axes>"
      ]
     },
     "metadata": {
      "needs_background": "light"
     },
     "output_type": "display_data"
    },
    {
     "name": "stdout",
     "output_type": "stream",
     "text": [
      "53.70247933884298\n",
      "53.70247933884298\n",
      "Ttest_relResult(statistic=nan, pvalue=nan)\n"
     ]
    }
   ],
   "source": [
    "fig, ax = plt.subplots(figsize=(6, 6))\n",
    "\n",
    "bplot = ax.boxplot(x = [af0_data.NetworkSize, af1_data.NetworkSize], patch_artist = True)\n",
    "ax.set_ylabel('Richness')\n",
    "colors = ['lightgrey', 'lightgrey', 'lightgrey']\n",
    "for patch, color in zip(bplot['boxes'], colors):\n",
    "    patch.set_facecolor(color)\n",
    "    \n",
    "for median in bplot['medians']:\n",
    "    median.set_color('black')\n",
    "    \n",
    "fig.tight_layout()\n",
    "#plt.ylim(0, 4)\n",
    "plt.show()\n",
    "\n",
    "print(np.mean(af0_data.NetworkSize))\n",
    "print(np.mean(af1_data.NetworkSize))\n",
    "print(ttest_rel(af0_data.NetworkSize, af1_data.NetworkSize, alternative = 'less'))"
   ]
  },
  {
   "cell_type": "code",
   "execution_count": 13,
   "id": "6627822d",
   "metadata": {},
   "outputs": [
    {
     "ename": "AttributeError",
     "evalue": "'DataFrame' object has no attribute 'NODFc'",
     "output_type": "error",
     "traceback": [
      "\u001b[0;31m---------------------------------------------------------------------------\u001b[0m",
      "\u001b[0;31mAttributeError\u001b[0m                            Traceback (most recent call last)",
      "\u001b[0;32m/var/folders/dz/887wb7q155d3pyd6qzhg8hrm0000gn/T/ipykernel_38225/1480323598.py\u001b[0m in \u001b[0;36m<module>\u001b[0;34m\u001b[0m\n\u001b[1;32m      1\u001b[0m \u001b[0mfig\u001b[0m\u001b[0;34m,\u001b[0m \u001b[0max\u001b[0m \u001b[0;34m=\u001b[0m \u001b[0mplt\u001b[0m\u001b[0;34m.\u001b[0m\u001b[0msubplots\u001b[0m\u001b[0;34m(\u001b[0m\u001b[0mfigsize\u001b[0m\u001b[0;34m=\u001b[0m\u001b[0;34m(\u001b[0m\u001b[0;36m6\u001b[0m\u001b[0;34m,\u001b[0m \u001b[0;36m6\u001b[0m\u001b[0;34m)\u001b[0m\u001b[0;34m)\u001b[0m\u001b[0;34m\u001b[0m\u001b[0;34m\u001b[0m\u001b[0m\n\u001b[1;32m      2\u001b[0m \u001b[0;34m\u001b[0m\u001b[0m\n\u001b[0;32m----> 3\u001b[0;31m \u001b[0mbplot\u001b[0m \u001b[0;34m=\u001b[0m \u001b[0max\u001b[0m\u001b[0;34m.\u001b[0m\u001b[0mboxplot\u001b[0m\u001b[0;34m(\u001b[0m\u001b[0mx\u001b[0m \u001b[0;34m=\u001b[0m \u001b[0;34m[\u001b[0m\u001b[0maf0_data\u001b[0m\u001b[0;34m.\u001b[0m\u001b[0mNODFc\u001b[0m\u001b[0;34m,\u001b[0m \u001b[0maf1_data\u001b[0m\u001b[0;34m.\u001b[0m\u001b[0mNODFc\u001b[0m\u001b[0;34m]\u001b[0m\u001b[0;34m,\u001b[0m \u001b[0mpatch_artist\u001b[0m \u001b[0;34m=\u001b[0m \u001b[0;32mTrue\u001b[0m\u001b[0;34m)\u001b[0m\u001b[0;34m\u001b[0m\u001b[0;34m\u001b[0m\u001b[0m\n\u001b[0m\u001b[1;32m      4\u001b[0m \u001b[0max\u001b[0m\u001b[0;34m.\u001b[0m\u001b[0mset_ylabel\u001b[0m\u001b[0;34m(\u001b[0m\u001b[0;34m'Nestedness'\u001b[0m\u001b[0;34m)\u001b[0m\u001b[0;34m\u001b[0m\u001b[0;34m\u001b[0m\u001b[0m\n\u001b[1;32m      5\u001b[0m \u001b[0mcolors\u001b[0m \u001b[0;34m=\u001b[0m \u001b[0;34m[\u001b[0m\u001b[0;34m'lightgrey'\u001b[0m\u001b[0;34m,\u001b[0m \u001b[0;34m'lightgrey'\u001b[0m\u001b[0;34m,\u001b[0m \u001b[0;34m'lightgrey'\u001b[0m\u001b[0;34m]\u001b[0m\u001b[0;34m\u001b[0m\u001b[0;34m\u001b[0m\u001b[0m\n",
      "\u001b[0;32m~/opt/anaconda3/lib/python3.9/site-packages/pandas/core/generic.py\u001b[0m in \u001b[0;36m__getattr__\u001b[0;34m(self, name)\u001b[0m\n\u001b[1;32m   5485\u001b[0m         ):\n\u001b[1;32m   5486\u001b[0m             \u001b[0;32mreturn\u001b[0m \u001b[0mself\u001b[0m\u001b[0;34m[\u001b[0m\u001b[0mname\u001b[0m\u001b[0;34m]\u001b[0m\u001b[0;34m\u001b[0m\u001b[0;34m\u001b[0m\u001b[0m\n\u001b[0;32m-> 5487\u001b[0;31m         \u001b[0;32mreturn\u001b[0m \u001b[0mobject\u001b[0m\u001b[0;34m.\u001b[0m\u001b[0m__getattribute__\u001b[0m\u001b[0;34m(\u001b[0m\u001b[0mself\u001b[0m\u001b[0;34m,\u001b[0m \u001b[0mname\u001b[0m\u001b[0;34m)\u001b[0m\u001b[0;34m\u001b[0m\u001b[0;34m\u001b[0m\u001b[0m\n\u001b[0m\u001b[1;32m   5488\u001b[0m \u001b[0;34m\u001b[0m\u001b[0m\n\u001b[1;32m   5489\u001b[0m     \u001b[0;32mdef\u001b[0m \u001b[0m__setattr__\u001b[0m\u001b[0;34m(\u001b[0m\u001b[0mself\u001b[0m\u001b[0;34m,\u001b[0m \u001b[0mname\u001b[0m\u001b[0;34m:\u001b[0m \u001b[0mstr\u001b[0m\u001b[0;34m,\u001b[0m \u001b[0mvalue\u001b[0m\u001b[0;34m)\u001b[0m \u001b[0;34m->\u001b[0m \u001b[0;32mNone\u001b[0m\u001b[0;34m:\u001b[0m\u001b[0;34m\u001b[0m\u001b[0;34m\u001b[0m\u001b[0m\n",
      "\u001b[0;31mAttributeError\u001b[0m: 'DataFrame' object has no attribute 'NODFc'"
     ]
    },
    {
     "data": {
      "image/png": "[encoded data removed]",
      "text/plain": [
       "<Figure size 432x432 with 1 Axes>"
      ]
     },
     "metadata": {
      "needs_background": "light"
     },
     "output_type": "display_data"
    }
   ],
   "source": [
    "fig, ax = plt.subplots(figsize=(6, 6))\n",
    "\n",
    "bplot = ax.boxplot(x = [af0_data.NODFc, af1_data.NODFc], patch_artist = True)\n",
    "ax.set_ylabel('Nestedness')\n",
    "colors = ['lightgrey', 'lightgrey', 'lightgrey']\n",
    "for patch, color in zip(bplot['boxes'], colors):\n",
    "    patch.set_facecolor(color)\n",
    "    \n",
    "for median in bplot['medians']:\n",
    "    median.set_color('black')\n",
    "    \n",
    "fig.tight_layout()\n",
    "#plt.ylim(0, 4)\n",
    "plt.show()\n",
    "\n",
    "print(np.mean(af0_data.NODFc))\n",
    "print(np.mean(af1_data.NODFc))\n",
    "print(ttest_rel(af0_data.NODFc, af1_data.NODFc, alternative = 'less'))"
   ]
  },
  {
   "cell_type": "markdown",
   "id": "d00c5360",
   "metadata": {},
   "source": [
    "##### "
   ]
  }
 ],
 "metadata": {
  "kernelspec": {
   "display_name": "Python 3 (ipykernel)",
   "language": "python",
   "name": "python3"
  },
  "language_info": {
   "codemirror_mode": {
    "name": "ipython",
    "version": 3
   },
   "file_extension": ".py",
   "mimetype": "text/x-python",
   "name": "python",
   "nbconvert_exporter": "python",
   "pygments_lexer": "ipython3",
   "version": "3.9.7"
  }
 },
 "nbformat": 4,
 "nbformat_minor": 5
}
